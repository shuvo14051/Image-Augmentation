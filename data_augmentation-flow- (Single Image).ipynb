{
 "cells": [
  {
   "cell_type": "markdown",
   "id": "5f90fc78",
   "metadata": {},
   "source": [
    "# Augmentation with a single image"
   ]
  },
  {
   "cell_type": "code",
   "execution_count": 184,
   "id": "28af798a",
   "metadata": {},
   "outputs": [],
   "source": [
    "import pandas as pd \n",
    "import numpy as np \n",
    "import os\n",
    "import cv2\n",
    "import matplotlib.pyplot as plt\n",
    "from matplotlib.image import imread\n",
    "import warnings\n",
    "import tensorflow as tf\n",
    "from tensorflow import keras\n",
    "from tensorflow.keras.preprocessing.image import ImageDataGenerator\n",
    "from skimage import io\n",
    "%matplotlib inline"
   ]
  },
  {
   "cell_type": "code",
   "execution_count": 185,
   "id": "37ac02bb",
   "metadata": {},
   "outputs": [],
   "source": [
    "gen = ImageDataGenerator(rotation_range=45, \n",
    "                         width_shift_range=0.2, \n",
    "                         height_shift_range=0.2, \n",
    "                         shear_range=0.15, \n",
    "                         zoom_range=0.1, \n",
    "                         channel_shift_range=10., \n",
    "                         horizontal_flip=True,\n",
    "                        )"
   ]
  },
  {
   "cell_type": "code",
   "execution_count": 186,
   "id": "e0f89718",
   "metadata": {},
   "outputs": [
    {
     "data": {
      "text/plain": [
       "['MildDemented', 'ModerateDemented', 'NonDemented', 'VeryMildDemented']"
      ]
     },
     "execution_count": 186,
     "metadata": {},
     "output_type": "execute_result"
    }
   ],
   "source": [
    "data_dir = 'D:\\Fall 2022\\CV project\\dataset\\Alzheimer'\n",
    "train_path = data_dir+'\\\\train'\n",
    "os.listdir(train_path)"
   ]
  },
  {
   "cell_type": "code",
   "execution_count": 187,
   "id": "0f01a555",
   "metadata": {},
   "outputs": [],
   "source": [
    "moderateAD_images = train_path+'\\\\MildDemented'"
   ]
  },
  {
   "cell_type": "code",
   "execution_count": 189,
   "id": "79d7702e",
   "metadata": {},
   "outputs": [
    {
     "data": {
      "text/plain": [
       "'mildDem0.jpg'"
      ]
     },
     "execution_count": 189,
     "metadata": {},
     "output_type": "execute_result"
    }
   ],
   "source": [
    "single_image_name = os.listdir(moderateAD_images)[0]\n",
    "single_image_name"
   ]
  },
  {
   "cell_type": "markdown",
   "id": "04193b60",
   "metadata": {},
   "source": [
    "## From here Augmentation"
   ]
  },
  {
   "cell_type": "code",
   "execution_count": 181,
   "id": "f5b6c2d9",
   "metadata": {},
   "outputs": [],
   "source": [
    "image_path = moderateAD_images+'\\\\mildDem716.jpg'\n",
    "image_path\n",
    "gray = imread(image_path)\n",
    "# plt.imshow(gray)"
   ]
  },
  {
   "cell_type": "code",
   "execution_count": 182,
   "id": "61f60d54",
   "metadata": {},
   "outputs": [],
   "source": [
    "# color=cv2.cvtColor(gray,cv2.COLOR_GRAY2RGB)\n",
    "# plt.imshow(color)\n",
    "# image = color.reshape((1,208,176,3))\n",
    "# image.shape"
   ]
  },
  {
   "cell_type": "markdown",
   "id": "df5e6626",
   "metadata": {},
   "source": [
    "## Second approach"
   ]
  },
  {
   "cell_type": "code",
   "execution_count": 183,
   "id": "aa15282a",
   "metadata": {},
   "outputs": [],
   "source": [
    "i=0\n",
    "for batch in gen.flow(moderateAD_images, \n",
    "                                    batch_size=16, \n",
    "                                    save_to_dir='augmented',\n",
    "                                    save_format='jpg',\n",
    "                                    save_prefix='aug'):\n",
    "    i+=1\n",
    "    if i >=1200:\n",
    "        break"
   ]
  },
  {
   "cell_type": "code",
   "execution_count": null,
   "id": "baf4a2ef",
   "metadata": {},
   "outputs": [],
   "source": []
  }
 ],
 "metadata": {
  "kernelspec": {
   "display_name": "Python 3 (ipykernel)",
   "language": "python",
   "name": "python3"
  },
  "language_info": {
   "codemirror_mode": {
    "name": "ipython",
    "version": 3
   },
   "file_extension": ".py",
   "mimetype": "text/x-python",
   "name": "python",
   "nbconvert_exporter": "python",
   "pygments_lexer": "ipython3",
   "version": "3.9.6"
  }
 },
 "nbformat": 4,
 "nbformat_minor": 5
}
