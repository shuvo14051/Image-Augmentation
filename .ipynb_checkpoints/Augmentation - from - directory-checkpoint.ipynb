{
 "cells": [
  {
   "cell_type": "code",
   "execution_count": 7,
   "id": "6f62a624",
   "metadata": {},
   "outputs": [],
   "source": [
    "import pandas as pd \n",
    "import numpy as np \n",
    "import os\n",
    "import cv2\n",
    "import matplotlib.pyplot as plt\n",
    "from matplotlib.image import imread\n",
    "import warnings\n",
    "import tensorflow as tf\n",
    "from tensorflow import keras\n",
    "from tensorflow.keras.preprocessing.image import ImageDataGenerator\n",
    "from skimage import io\n",
    "from PIL import Image\n",
    "%matplotlib inline"
   ]
  },
  {
   "cell_type": "code",
   "execution_count": 8,
   "id": "58ed4dd0",
   "metadata": {},
   "outputs": [],
   "source": [
    "gen = ImageDataGenerator(rotation_range=45, \n",
    "                         width_shift_range=0.2, \n",
    "                         height_shift_range=0.2, \n",
    "                         shear_range=0.15, \n",
    "                         zoom_range=0.1, \n",
    "                         channel_shift_range=10., \n",
    "                         horizontal_flip=True,\n",
    "                        )"
   ]
  },
  {
   "cell_type": "code",
   "execution_count": 9,
   "id": "99c189ed",
   "metadata": {},
   "outputs": [],
   "source": [
    "data_dir = 'D:\\Fall 2022\\CV project\\dataset_3\\Alzheimer'\n",
    "train_path = data_dir+'\\\\train'"
   ]
  },
  {
   "cell_type": "markdown",
   "id": "de15505f",
   "metadata": {},
   "source": [
    "#### In the train directory keep only one class and move the other class to a different location"
   ]
  },
  {
   "cell_type": "code",
   "execution_count": 10,
   "id": "2f9a36c2",
   "metadata": {},
   "outputs": [
    {
     "data": {
      "text/plain": [
       "'D:\\\\Fall 2022\\\\CV project\\\\dataset_3\\\\Alzheimer\\\\train'"
      ]
     },
     "execution_count": 10,
     "metadata": {},
     "output_type": "execute_result"
    }
   ],
   "source": [
    "moderateAD_images = train_path\n",
    "moderateAD_images"
   ]
  },
  {
   "cell_type": "code",
   "execution_count": 11,
   "id": "ecc57a8c",
   "metadata": {},
   "outputs": [
    {
     "name": "stdout",
     "output_type": "stream",
     "text": [
      "Found 52 images belonging to 1 classes.\n"
     ]
    }
   ],
   "source": [
    "i=0\n",
    "for batch in gen.flow_from_directory(train_path, \n",
    "                                     batch_size=16, \n",
    "                                     color_mode='grayscale',\n",
    "                                     target_size = (208,176),\n",
    "                                     save_to_dir='augmented',\n",
    "                                     save_format='jpg',\n",
    "                                     save_prefix='aug'):\n",
    "    i+=1\n",
    "    if i >=140:\n",
    "        break"
   ]
  },
  {
   "cell_type": "markdown",
   "id": "c06e4066",
   "metadata": {},
   "source": [
    "#### Copy the augmented images from the (augmented) directory and paste those in the required class"
   ]
  },
  {
   "cell_type": "code",
   "execution_count": null,
   "id": "d33772af",
   "metadata": {},
   "outputs": [],
   "source": []
  }
 ],
 "metadata": {
  "kernelspec": {
   "display_name": "Python 3 (ipykernel)",
   "language": "python",
   "name": "python3"
  },
  "language_info": {
   "codemirror_mode": {
    "name": "ipython",
    "version": 3
   },
   "file_extension": ".py",
   "mimetype": "text/x-python",
   "name": "python",
   "nbconvert_exporter": "python",
   "pygments_lexer": "ipython3",
   "version": "3.9.6"
  }
 },
 "nbformat": 4,
 "nbformat_minor": 5
}
